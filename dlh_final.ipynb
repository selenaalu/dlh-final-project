{
  "nbformat": 4,
  "nbformat_minor": 0,
  "metadata": {
    "colab": {
      "provenance": [],
      "gpuType": "T4"
    },
    "kernelspec": {
      "name": "python3",
      "display_name": "Python 3"
    },
    "language_info": {
      "name": "python"
    },
    "accelerator": "GPU"
  },
  "cells": [
    {
      "cell_type": "markdown",
      "source": [
        "# Heart Disease Detection via Multi-View MIL: SAMIL Reproduction\n",
        "\n",
        "Huang, Z., Wessler, B. S., & Hughes, M. C. (2023). Detecting Heart Disease from Multi-View Ultrasound Images via Supervised Attention Multiple Instance Learning. Proceedings of the 8th Machine Learning for Healthcare Conference, PMLR 219:285–307."
      ],
      "metadata": {
        "id": "zoC7dxHv1P4_"
      }
    },
    {
      "cell_type": "code",
      "source": [
        "!pip install pytorch-metric-learning"
      ],
      "metadata": {
        "colab": {
          "base_uri": "https://localhost:8080/"
        },
        "id": "0sypkb9uzb-4",
        "outputId": "915e3661-a3ff-4222-d77b-e9fb46055e9c"
      },
      "execution_count": 17,
      "outputs": [
        {
          "output_type": "stream",
          "name": "stdout",
          "text": [
            "Requirement already satisfied: pytorch-metric-learning in /usr/local/lib/python3.11/dist-packages (2.8.1)\n",
            "Requirement already satisfied: numpy in /usr/local/lib/python3.11/dist-packages (from pytorch-metric-learning) (2.0.2)\n",
            "Requirement already satisfied: scikit-learn in /usr/local/lib/python3.11/dist-packages (from pytorch-metric-learning) (1.6.1)\n",
            "Requirement already satisfied: torch>=1.6.0 in /usr/local/lib/python3.11/dist-packages (from pytorch-metric-learning) (2.6.0+cu124)\n",
            "Requirement already satisfied: tqdm in /usr/local/lib/python3.11/dist-packages (from pytorch-metric-learning) (4.67.1)\n",
            "Requirement already satisfied: filelock in /usr/local/lib/python3.11/dist-packages (from torch>=1.6.0->pytorch-metric-learning) (3.18.0)\n",
            "Requirement already satisfied: typing-extensions>=4.10.0 in /usr/local/lib/python3.11/dist-packages (from torch>=1.6.0->pytorch-metric-learning) (4.13.2)\n",
            "Requirement already satisfied: networkx in /usr/local/lib/python3.11/dist-packages (from torch>=1.6.0->pytorch-metric-learning) (3.4.2)\n",
            "Requirement already satisfied: jinja2 in /usr/local/lib/python3.11/dist-packages (from torch>=1.6.0->pytorch-metric-learning) (3.1.6)\n",
            "Requirement already satisfied: fsspec in /usr/local/lib/python3.11/dist-packages (from torch>=1.6.0->pytorch-metric-learning) (2025.3.2)\n",
            "Requirement already satisfied: nvidia-cuda-nvrtc-cu12==12.4.127 in /usr/local/lib/python3.11/dist-packages (from torch>=1.6.0->pytorch-metric-learning) (12.4.127)\n",
            "Requirement already satisfied: nvidia-cuda-runtime-cu12==12.4.127 in /usr/local/lib/python3.11/dist-packages (from torch>=1.6.0->pytorch-metric-learning) (12.4.127)\n",
            "Requirement already satisfied: nvidia-cuda-cupti-cu12==12.4.127 in /usr/local/lib/python3.11/dist-packages (from torch>=1.6.0->pytorch-metric-learning) (12.4.127)\n",
            "Requirement already satisfied: nvidia-cudnn-cu12==9.1.0.70 in /usr/local/lib/python3.11/dist-packages (from torch>=1.6.0->pytorch-metric-learning) (9.1.0.70)\n",
            "Requirement already satisfied: nvidia-cublas-cu12==12.4.5.8 in /usr/local/lib/python3.11/dist-packages (from torch>=1.6.0->pytorch-metric-learning) (12.4.5.8)\n",
            "Requirement already satisfied: nvidia-cufft-cu12==11.2.1.3 in /usr/local/lib/python3.11/dist-packages (from torch>=1.6.0->pytorch-metric-learning) (11.2.1.3)\n",
            "Requirement already satisfied: nvidia-curand-cu12==10.3.5.147 in /usr/local/lib/python3.11/dist-packages (from torch>=1.6.0->pytorch-metric-learning) (10.3.5.147)\n",
            "Requirement already satisfied: nvidia-cusolver-cu12==11.6.1.9 in /usr/local/lib/python3.11/dist-packages (from torch>=1.6.0->pytorch-metric-learning) (11.6.1.9)\n",
            "Requirement already satisfied: nvidia-cusparse-cu12==12.3.1.170 in /usr/local/lib/python3.11/dist-packages (from torch>=1.6.0->pytorch-metric-learning) (12.3.1.170)\n",
            "Requirement already satisfied: nvidia-cusparselt-cu12==0.6.2 in /usr/local/lib/python3.11/dist-packages (from torch>=1.6.0->pytorch-metric-learning) (0.6.2)\n",
            "Requirement already satisfied: nvidia-nccl-cu12==2.21.5 in /usr/local/lib/python3.11/dist-packages (from torch>=1.6.0->pytorch-metric-learning) (2.21.5)\n",
            "Requirement already satisfied: nvidia-nvtx-cu12==12.4.127 in /usr/local/lib/python3.11/dist-packages (from torch>=1.6.0->pytorch-metric-learning) (12.4.127)\n",
            "Requirement already satisfied: nvidia-nvjitlink-cu12==12.4.127 in /usr/local/lib/python3.11/dist-packages (from torch>=1.6.0->pytorch-metric-learning) (12.4.127)\n",
            "Requirement already satisfied: triton==3.2.0 in /usr/local/lib/python3.11/dist-packages (from torch>=1.6.0->pytorch-metric-learning) (3.2.0)\n",
            "Requirement already satisfied: sympy==1.13.1 in /usr/local/lib/python3.11/dist-packages (from torch>=1.6.0->pytorch-metric-learning) (1.13.1)\n",
            "Requirement already satisfied: mpmath<1.4,>=1.1.0 in /usr/local/lib/python3.11/dist-packages (from sympy==1.13.1->torch>=1.6.0->pytorch-metric-learning) (1.3.0)\n",
            "Requirement already satisfied: scipy>=1.6.0 in /usr/local/lib/python3.11/dist-packages (from scikit-learn->pytorch-metric-learning) (1.15.2)\n",
            "Requirement already satisfied: joblib>=1.2.0 in /usr/local/lib/python3.11/dist-packages (from scikit-learn->pytorch-metric-learning) (1.4.2)\n",
            "Requirement already satisfied: threadpoolctl>=3.1.0 in /usr/local/lib/python3.11/dist-packages (from scikit-learn->pytorch-metric-learning) (3.6.0)\n",
            "Requirement already satisfied: MarkupSafe>=2.0 in /usr/local/lib/python3.11/dist-packages (from jinja2->torch>=1.6.0->pytorch-metric-learning) (3.0.2)\n"
          ]
        }
      ]
    },
    {
      "cell_type": "code",
      "execution_count": 2,
      "metadata": {
        "colab": {
          "base_uri": "https://localhost:8080/"
        },
        "id": "qk8C64MPtg9o",
        "outputId": "790c03fd-8295-412f-82e7-2ee6de8a6e77"
      },
      "outputs": [
        {
          "output_type": "stream",
          "name": "stdout",
          "text": [
            "Mounted at /content/gdrive\n"
          ]
        }
      ],
      "source": [
        "from google.colab import drive\n",
        "drive.mount('/content/gdrive')"
      ]
    },
    {
      "cell_type": "code",
      "source": [
        "# === Standard Libraries ===\n",
        "import os\n",
        "import sys\n",
        "import random\n",
        "import logging\n",
        "from collections import defaultdict\n",
        "\n",
        "# === Data Handling ===\n",
        "import pandas as pd\n",
        "from PIL import Image\n",
        "\n",
        "# === PyTorch and TorchVision ===\n",
        "import torch\n",
        "import torch.nn as nn\n",
        "import torch.nn.functional as F\n",
        "import torch.optim as optim\n",
        "from torch.utils.data import Dataset, DataLoader, random_split\n",
        "from torchvision import transforms, models\n",
        "\n",
        "# === Metric Learning ===\n",
        "from pytorch_metric_learning import losses\n",
        "\n",
        "# === Sklearn Utilities ===\n",
        "from sklearn.preprocessing import LabelEncoder\n",
        "from sklearn.metrics import balanced_accuracy_score\n",
        "\n",
        "# === Progress Display ===\n",
        "from tqdm import tqdm\n",
        "\n",
        "# === Local Project Code ===\n",
        "sys.path.append('/content/gdrive/MyDrive/dlh project/SAMIL/src/SAMIL/')\n",
        "from libml.models.view_classifier import build_wideresnet"
      ],
      "metadata": {
        "id": "TzLzuYEah1d7"
      },
      "execution_count": 3,
      "outputs": []
    },
    {
      "cell_type": "markdown",
      "source": [
        "## Data Loading and Preprocessing"
      ],
      "metadata": {
        "id": "ZjmIGCRLhyho"
      }
    },
    {
      "cell_type": "code",
      "source": [
        "# Define paths\n",
        "data_dir = '/content/gdrive/MyDrive/dlh project/view_and_diagnosis_labeled_set'\n",
        "labeled_dir = os.path.join(data_dir, 'labeled')\n",
        "unlabeled_dir = os.path.join(data_dir, 'unlabeled')\n",
        "labels_csv = os.path.join(data_dir, 'labels_per_image.csv')\n",
        "\n",
        "# Load CSV with labels\n",
        "labels_df = pd.read_csv(labels_csv)\n",
        "\n",
        "# Filter labels_df to include only existing files in the labeled directory\n",
        "labels_df = labels_df[labels_df['query_key'].apply(lambda x: os.path.isfile(os.path.join(labeled_dir, x)))].reset_index(drop=True)\n",
        "\n",
        "# Function to extract study_id from filename\n",
        "def extract_study_id(query_key):\n",
        "    return query_key.split('_')[0]  # e.g., '3407s1' from '3407s1_0.png'\n",
        "\n",
        "# Apply function to dataframe\n",
        "labels_df['study_id'] = labels_df['query_key'].apply(extract_study_id)\n",
        "\n",
        "# Clean labels\n",
        "labels_df['view_label'] = labels_df['view_label'].str.strip()\n",
        "labels_df['diagnosis_label'] = labels_df['diagnosis_label'].str.strip()\n",
        "\n",
        "# Create mapping: image path -> labels (for supervised learning)\n",
        "image_to_labels = {}\n",
        "for _, row in labels_df.iterrows():\n",
        "    img_filename = row['query_key']\n",
        "    img_path = os.path.join(labeled_dir, img_filename)\n",
        "    image_to_labels[img_path] = {\n",
        "        \"view_label\": row['view_label'],\n",
        "        \"diagnosis_label\": row['diagnosis_label']\n",
        "    }\n",
        "\n",
        "# Get all image filenames in the unlabeled directory\n",
        "unlabeled_image_paths = [os.path.join(unlabeled_dir, filename) for filename in os.listdir(unlabeled_dir) if os.path.isfile(os.path.join(unlabeled_dir, filename))]\n",
        "\n",
        "# Create mapping: study_id -> list of image paths (for contrastive learning)\n",
        "study_to_images = defaultdict(list)\n",
        "for img_path in unlabeled_image_paths:\n",
        "    study_id = extract_study_id(os.path.basename(img_path))\n",
        "    study_to_images[study_id].append(img_path)"
      ],
      "metadata": {
        "id": "PUsWf3uXxa1H"
      },
      "execution_count": 4,
      "outputs": []
    },
    {
      "cell_type": "code",
      "source": [
        "class EchoDataset(Dataset):\n",
        "    def __init__(self, image_paths, image_to_labels=None, transform=None, augment_transform=None, all_view_labels=None):\n",
        "        \"\"\"\n",
        "        Args:\n",
        "            image_paths (list): List of image file paths.\n",
        "            image_to_labels (dict, optional): Mapping from image path to labels.\n",
        "            transform (callable, optional): Optional transform to be applied on an image (e.g., resize and to tensor).\n",
        "            augment_transform (callable, optional): Optional transform for augmenting images (e.g., random crop, flip).\n",
        "            all_view_labels (list, optional): List of all possible view labels for label encoding.\n",
        "        \"\"\"\n",
        "        self.image_paths = image_paths\n",
        "        self.image_to_labels = image_to_labels\n",
        "        self.transform = transform\n",
        "        self.augment_transform = augment_transform\n",
        "\n",
        "        # Initialize LabelEncoder\n",
        "        self.view_label_encoder = LabelEncoder()\n",
        "        self.diagnosis_label_encoder = LabelEncoder()\n",
        "\n",
        "        # Fit the LabelEncoder with all unique view labels from your dataset if image_to_labels is provided\n",
        "        if image_to_labels is not None:  # Check if image_to_labels is provided\n",
        "            all_view_labels = list(set(v['view_label'] for v in image_to_labels.values()))\n",
        "            self.view_label_encoder.fit(all_view_labels)  # Fit the encoder\n",
        "            all_diagnosis_labels = list(set(v['diagnosis_label'] for v in image_to_labels.values()))\n",
        "            self.diagnosis_label_encoder.fit(all_diagnosis_labels)\n",
        "\n",
        "    def __len__(self):\n",
        "        return len(self.image_paths)\n",
        "\n",
        "    def __getitem__(self, idx):\n",
        "        img_path = self.image_paths[idx]\n",
        "        image = Image.open(img_path).convert('RGB')\n",
        "\n",
        "        # Apply augmentations first\n",
        "        view1 = self.augment_transform(image) if self.augment_transform else image\n",
        "        view2 = self.augment_transform(image) if self.augment_transform else image\n",
        "\n",
        "        # Now apply the usual transforms (like resizing and converting to tensor)\n",
        "        if self.transform:\n",
        "            view1 = self.transform(view1)\n",
        "            view2 = self.transform(view2)\n",
        "\n",
        "        if self.image_to_labels:\n",
        "            labels = self.image_to_labels.get(img_path, {})\n",
        "            view_label = labels.get('view_label')\n",
        "            diagnosis_label = labels.get('diagnosis_label')\n",
        "\n",
        "            # Encode the labels\n",
        "            view_label = self.view_label_encoder.transform([view_label])[0]\n",
        "            diagnosis_label = self.diagnosis_label_encoder.transform([diagnosis_label])[0]\n",
        "\n",
        "            return view1, view2, view_label, diagnosis_label\n",
        "        else:\n",
        "            return view1, view2"
      ],
      "metadata": {
        "id": "zOWpSbH0ZSdm"
      },
      "execution_count": 5,
      "outputs": []
    },
    {
      "cell_type": "code",
      "source": [
        "# List of image paths with labels\n",
        "labeled_image_paths = list(image_to_labels.keys())\n",
        "\n",
        "# Flatten the list of image paths from all studies\n",
        "unlabeled_image_paths = [img_path for images in study_to_images.values() for img_path in images]\n",
        "\n",
        "# Define base transformations (resize and to tensor)\n",
        "base_transform = transforms.Compose([\n",
        "    transforms.Resize((128, 128)),\n",
        "    transforms.ToTensor(),\n",
        "])\n",
        "\n",
        "# Define augmentation transformations (e.g., random horizontal flip, rotation, etc.)\n",
        "augment_transform = transforms.Compose([\n",
        "    transforms.RandomHorizontalFlip(),\n",
        "    transforms.RandomRotation(10),\n",
        "    transforms.ColorJitter(brightness=0.2, contrast=0.2),\n",
        "    #transforms.ToTensor(),\n",
        "])\n",
        "\n",
        "# Create the supervised dataset with augmentations\n",
        "supervised_dataset = EchoDataset(\n",
        "    image_paths=labeled_image_paths,\n",
        "    image_to_labels=image_to_labels,\n",
        "    transform=base_transform,\n",
        "    augment_transform=augment_transform\n",
        ")\n",
        "\n",
        "# Create the self-supervised dataset with augmentations\n",
        "self_supervised_dataset = EchoDataset(\n",
        "    image_paths=unlabeled_image_paths,\n",
        "    transform=base_transform,  # Base transform for resizing and tensor conversion\n",
        "    augment_transform=augment_transform  # Augmentation for self-supervised learning\n",
        ")\n"
      ],
      "metadata": {
        "id": "uECGsGJVYxUs"
      },
      "execution_count": 6,
      "outputs": []
    },
    {
      "cell_type": "code",
      "source": [
        "# Define the sizes for training, validation, and test sets\n",
        "total_size = len(supervised_dataset)\n",
        "train_size = int(0.8 * total_size)\n",
        "val_size = int(0.1 * total_size)\n",
        "test_size = total_size - train_size - val_size  # Ensures all data is used\n",
        "\n",
        "# Set a random seed for reproducibility\n",
        "torch.manual_seed(42)\n",
        "\n",
        "# Split the dataset\n",
        "train_dataset, val_dataset, test_dataset = random_split(\n",
        "    supervised_dataset, [train_size, val_size, test_size]\n",
        ")\n",
        "\n",
        "# Create DataLoaders for each set\n",
        "train_loader = DataLoader(train_dataset, batch_size=8, shuffle=True, num_workers=4)\n",
        "val_loader = DataLoader(val_dataset, batch_size=8, shuffle=False, num_workers=4)\n",
        "test_loader = DataLoader(test_dataset, batch_size=8, shuffle=False, num_workers=4)\n",
        "\n",
        "# Define the sizes for training, validation, and test sets\n",
        "unlabeled_total_size = len(self_supervised_dataset)\n",
        "unlabeled_train_size = int(0.8 * unlabeled_total_size)\n",
        "unlabeled_val_size = int(0.1 * unlabeled_total_size)\n",
        "unlabeled_test_size = unlabeled_total_size - unlabeled_train_size - unlabeled_val_size\n",
        "\n",
        "# Split the dataset\n",
        "unlabeled_train_dataset, unlabeled_val_dataset, unlabeled_test_dataset = random_split(\n",
        "    self_supervised_dataset, [unlabeled_train_size, unlabeled_val_size, unlabeled_test_size]\n",
        ")\n",
        "\n",
        "# Create DataLoaders for each set\n",
        "unlabeled_train_loader = DataLoader(unlabeled_train_dataset, batch_size=8, shuffle=True, num_workers=4)\n",
        "unlabeled_val_loader = DataLoader(unlabeled_val_dataset, batch_size=8, shuffle=False, num_workers=4)\n",
        "unlabeled_test_loader = DataLoader(unlabeled_test_dataset, batch_size=8, shuffle=False, num_workers=4)"
      ],
      "metadata": {
        "colab": {
          "base_uri": "https://localhost:8080/"
        },
        "id": "E6gYu8cTZ0e8",
        "outputId": "434b4844-14c5-4ecf-9370-4fe8834a822e"
      },
      "execution_count": 7,
      "outputs": [
        {
          "output_type": "stream",
          "name": "stderr",
          "text": [
            "/usr/local/lib/python3.11/dist-packages/torch/utils/data/dataloader.py:624: UserWarning: This DataLoader will create 4 worker processes in total. Our suggested max number of worker in current system is 2, which is smaller than what this DataLoader is going to create. Please be aware that excessive worker creation might get DataLoader running slow or even freeze, lower the worker number to avoid potential slowness/freeze if necessary.\n",
            "  warnings.warn(\n"
          ]
        }
      ]
    },
    {
      "cell_type": "markdown",
      "source": [
        "## Model Training"
      ],
      "metadata": {
        "id": "8OpMnPZEkAYv"
      }
    },
    {
      "cell_type": "code",
      "source": [
        "def pretrain(model, pretrain_loader, contrastive_loss_fn, optimizer, device, num_epochs=100):\n",
        "    model.to(device)\n",
        "    model.train()\n",
        "    for epoch in range(num_epochs):\n",
        "        total_loss = 0.0\n",
        "        for batch in pretrain_loader:\n",
        "            study_view1, study_view2 = batch\n",
        "\n",
        "            study_view1 = study_view1.to(device)\n",
        "            study_view2 = study_view2.to(device)\n",
        "\n",
        "            optimizer.zero_grad()\n",
        "\n",
        "            z1, _ = model(study_view1)\n",
        "            z2, _ = model(study_view2)\n",
        "\n",
        "            # Concatenate embeddings and create labels\n",
        "            embeddings = torch.cat([z1, z2], dim=0)\n",
        "            labels = torch.arange(z1.size(0)).to(device)\n",
        "            labels = torch.cat([labels, labels], dim=0)\n",
        "\n",
        "            # Compute loss\n",
        "            loss = contrastive_loss_fn(embeddings, labels)\n",
        "\n",
        "            loss.backward()\n",
        "            optimizer.step()\n",
        "\n",
        "            total_loss += loss.item()\n",
        "\n",
        "        print(f'Pretraining Epoch [{epoch+1}/{num_epochs}], Loss: {total_loss/len(pretrain_loader):.4f}')\n"
      ],
      "metadata": {
        "id": "p_2LSEcwZ2p7"
      },
      "execution_count": 8,
      "outputs": []
    },
    {
      "cell_type": "code",
      "source": [
        "logger = logging.getLogger(__name__)\n",
        "\n",
        "def create_view_relevance_classifier():\n",
        "    base_model = build_wideresnet(depth=28, widen_factor=2, dropout=0.0, num_classes=3) # Original view model\n",
        "\n",
        "    logger.info(\"Total params for View Model: {:.2f}M\".format(\n",
        "        sum(p.numel() for p in base_model.parameters()) / 1e6))\n",
        "\n",
        "    checkpoint_path = '/content/gdrive/MyDrive/dlh project/seed0_model_best.pth.tar'\n",
        "\n",
        "    checkpoint = torch.load(checkpoint_path, map_location='cpu', weights_only=False)\n",
        "    base_model.load_state_dict(checkpoint['ema_state_dict'])\n",
        "    base_model.eval()\n",
        "\n",
        "    # Modify the final layer to output a single probability score\n",
        "    base_model.fc = nn.Sequential(\n",
        "        nn.Linear(base_model.fc.in_features, 1),  # Output a single probability\n",
        "        nn.Sigmoid()  # Apply sigmoid to get probability between 0 and 1\n",
        "    )\n",
        "\n",
        "    return base_model  # Return the modified view model as the relevance classifier\n",
        "\n",
        "def supervised_attention_loss(attention_weights, relevance_scores, tau_v=1.0):\n",
        "    \"\"\"\n",
        "    Calculates the supervised attention loss (LSA) as described in Equation (4).\n",
        "\n",
        "    Args:\n",
        "        attention_weights (torch.Tensor): Attention weights (A) produced by the model.\n",
        "        relevance_scores (torch.Tensor): Relevance scores (R) from the view relevance classifier.\n",
        "        tau_v (float): Temperature scaling parameter for the softmax transform.\n",
        "\n",
        "    Returns:\n",
        "        torch.Tensor: The supervised attention loss.\n",
        "    \"\"\"\n",
        "    # Calculate R (relevance probabilities) using softmax with temperature scaling\n",
        "    relevance_probabilities = torch.softmax(relevance_scores / tau_v, dim=0)\n",
        "\n",
        "    # Calculate KL divergence between R and A\n",
        "    loss = torch.nn.functional.kl_div(\n",
        "        torch.log(attention_weights),\n",
        "        relevance_probabilities,\n",
        "        reduction='batchmean'  # You can change the reduction method if needed\n",
        "    )\n",
        "\n",
        "    return loss\n",
        "\n",
        "class LMFLoss(nn.Module):\n",
        "    def __init__(self, gamma=2.0, alpha=0.25):\n",
        "        super(LMFLoss, self).__init__()\n",
        "        self.gamma = gamma\n",
        "        self.alpha = alpha\n",
        "\n",
        "    def forward(self, inputs, targets):\n",
        "        ce_loss = F.cross_entropy(inputs, targets, reduction='none')\n",
        "        pt = torch.exp(-ce_loss)\n",
        "        focal_loss = self.alpha * (1 - pt) ** self.gamma * ce_loss\n",
        "        return focal_loss.mean()\n",
        "\n",
        "def train_model_with_attention(model, train_loader, val_loader, criterion, attention_loss_fn, optimizer, num_epochs=25, device='cuda', lambda_attention=1.0):\n",
        "    model.to(device)\n",
        "    best_val_loss = float('inf')\n",
        "    patience = 5\n",
        "    trigger_times = 0\n",
        "\n",
        "    for epoch in range(num_epochs):\n",
        "        print(f'Epoch {epoch+1}/{num_epochs}')\n",
        "        print('-' * 10)\n",
        "\n",
        "        # Training phase\n",
        "        model.train()\n",
        "        running_loss = 0.0\n",
        "        for inputs1, inputs2, view_label, diagnosis_label in tqdm(train_loader): # Unpack all 4 values\n",
        "            inputs = torch.cat([inputs1, inputs2], dim=0) # Concatenate view1 and view2 along dimension 0 to create inputs\n",
        "            inputs = inputs.to(device)\n",
        "\n",
        "            # Repeat labels to match the concatenated input size\n",
        "            labels = torch.tensor(diagnosis_label, device=device).repeat(2)\n",
        "\n",
        "            optimizer.zero_grad()\n",
        "\n",
        "            outputs, attention_weights = model(inputs)\n",
        "            classification_loss = criterion(outputs, labels)\n",
        "\n",
        "            # Calculate supervised attention loss\n",
        "            view_relevance_classifier = create_view_relevance_classifier().to(device) # Initialize the view relevance classifier\n",
        "            relevance_scores = view_relevance_classifier(inputs) # Get relevance scores from the classifier\n",
        "            attention_loss = supervised_attention_loss(attention_weights, relevance_scores) # Calculate supervised attention loss\n",
        "\n",
        "            # Calculate total loss\n",
        "            loss = classification_loss + lambda_attention * attention_loss\n",
        "\n",
        "            loss.backward()\n",
        "            optimizer.step()\n",
        "\n",
        "            running_loss += loss.item() * inputs.size(0)\n",
        "\n",
        "        epoch_loss = running_loss / len(train_loader.dataset)\n",
        "        print(f'Training Loss: {epoch_loss:.4f}')\n",
        "\n",
        "        # Validation phase\n",
        "        model.eval()\n",
        "        val_running_loss = 0.0\n",
        "        with torch.no_grad():\n",
        "            for inputs1, inputs2, view_label, diagnosis_label in tqdm(val_loader):\n",
        "                inputs = torch.cat([inputs1, inputs2], dim=0)\n",
        "                inputs = inputs.to(device)\n",
        "\n",
        "                # Repeat labels to match the concatenated input size\n",
        "                labels = torch.tensor(diagnosis_label, device=device).repeat(2)\n",
        "\n",
        "                outputs, attention_weights = model(inputs)\n",
        "                classification_loss = criterion(outputs, labels)\n",
        "\n",
        "                # Assuming you have a way to get view_relevance_scores for validation data\n",
        "                # Replace this with your actual logic to get relevance scores\n",
        "                view_relevance_classifier = create_view_relevance_classifier().to(device)\n",
        "                relevance_scores = view_relevance_classifier(inputs)\n",
        "\n",
        "                attention_loss = attention_loss_fn(attention_weights, relevance_scores)\n",
        "                loss = classification_loss + lambda_attention * attention_loss\n",
        "                val_running_loss += loss.item() * inputs.size(0)\n",
        "\n",
        "        val_epoch_loss = val_running_loss / len(val_loader.dataset)\n",
        "        print(f'Validation Loss: {val_epoch_loss:.4f}')\n",
        "\n",
        "        # Early stopping\n",
        "        if val_epoch_loss < best_val_loss:\n",
        "            best_val_loss = val_epoch_loss\n",
        "            trigger_times = 0\n",
        "            # Save the best model\n",
        "            torch.save(model.state_dict(), 'best_model.pth')\n",
        "        else:\n",
        "            trigger_times += 1\n",
        "            if trigger_times >= patience:\n",
        "                print('Early stopping!')\n",
        "                break\n",
        "\n",
        "    # Load the best model\n",
        "    model.load_state_dict(torch.load('best_model.pth'))\n",
        "    return model\n"
      ],
      "metadata": {
        "id": "kikyjKByZ8uQ"
      },
      "execution_count": 9,
      "outputs": []
    },
    {
      "cell_type": "code",
      "source": [
        "# Custom model integrating ResNet and attention mechanism\n",
        "class ResNetWithAttention(nn.Module):\n",
        "    def __init__(self, num_classes=3):\n",
        "        super(ResNetWithAttention, self).__init__()\n",
        "        self.resnet = models.resnet50(pretrained=True)\n",
        "        self.resnet.fc = nn.Linear(self.resnet.fc.in_features, num_classes)\n",
        "\n",
        "        # Attention mechanism (could be a simple attention layer)\n",
        "        self.attention = nn.Sequential(\n",
        "            nn.Linear(num_classes, 64),\n",
        "            nn.ReLU(),\n",
        "            nn.Linear(64, 1)\n",
        "        )\n",
        "\n",
        "    def forward(self, x):\n",
        "        features = self.resnet(x)\n",
        "        attention_weights = torch.sigmoid(self.attention(features))  # Apply attention (between 0 and 1)\n",
        "        return features, attention_weights"
      ],
      "metadata": {
        "id": "sCuwESw2d-zX"
      },
      "execution_count": 10,
      "outputs": []
    },
    {
      "cell_type": "code",
      "source": [
        "# Model initialization\n",
        "model = ResNetWithAttention(num_classes=5)\n",
        "\n",
        "# Loss functions and optimizer\n",
        "criterion = LMFLoss()\n",
        "optimizer = optim.SGD(model.parameters(), lr=0.0005, weight_decay=0.0001)\n",
        "contrastive_loss_fn = losses.ContrastiveLoss()\n",
        "attention_loss_fn = nn.MSELoss()"
      ],
      "metadata": {
        "id": "DoDC2d2aeScu",
        "colab": {
          "base_uri": "https://localhost:8080/"
        },
        "outputId": "62b943e6-f5f9-4ef5-e1a6-7d4de1d6a045"
      },
      "execution_count": 19,
      "outputs": [
        {
          "output_type": "stream",
          "name": "stderr",
          "text": [
            "/usr/local/lib/python3.11/dist-packages/torchvision/models/_utils.py:208: UserWarning: The parameter 'pretrained' is deprecated since 0.13 and may be removed in the future, please use 'weights' instead.\n",
            "  warnings.warn(\n",
            "/usr/local/lib/python3.11/dist-packages/torchvision/models/_utils.py:223: UserWarning: Arguments other than a weight enum or `None` for 'weights' are deprecated since 0.13 and may be removed in the future. The current behavior is equivalent to passing `weights=ResNet50_Weights.IMAGENET1K_V1`. You can also use `weights=ResNet50_Weights.DEFAULT` to get the most up-to-date weights.\n",
            "  warnings.warn(msg)\n"
          ]
        }
      ]
    },
    {
      "cell_type": "code",
      "source": [
        "# Full Training Process:\n",
        "def train_with_both_labeled_and_unlabeled(model, labeled_train_loader, labeled_val_loader, unlabeled_loader, criterion, attention_loss_fn, contrastive_loss_fn, optimizer, num_epochs=100, device='cuda', lambda_attention=1.0):\n",
        "    # Step 1: Pretrain on Unlabeled Data\n",
        "    print(\"Starting pretraining on unlabeled data...\")\n",
        "    pretrain(model, unlabeled_loader, contrastive_loss_fn, optimizer, device, num_epochs=num_epochs)\n",
        "\n",
        "    # Step 2: Fine-tune on Labeled Data\n",
        "    print(\"Starting fine-tuning on labeled data...\")\n",
        "    model = train_model_with_attention(model, labeled_train_loader, labeled_val_loader, criterion, attention_loss_fn, optimizer, num_epochs=num_epochs, device=device, lambda_attention=lambda_attention)\n",
        "\n",
        "    return model"
      ],
      "metadata": {
        "id": "nVW5kdvex4Qy"
      },
      "execution_count": 20,
      "outputs": []
    },
    {
      "cell_type": "code",
      "source": [
        "# Train the model using both labeled and unlabeled data\n",
        "trained_model = train_with_both_labeled_and_unlabeled(model, train_loader, val_loader, unlabeled_train_loader, criterion, attention_loss_fn, contrastive_loss_fn, optimizer, num_epochs=20, device='cuda', lambda_attention=1.0)"
      ],
      "metadata": {
        "colab": {
          "base_uri": "https://localhost:8080/"
        },
        "id": "WvXsyoTkycnO",
        "outputId": "1edca088-460d-4d04-804f-7c294abfef1f"
      },
      "execution_count": 21,
      "outputs": [
        {
          "output_type": "stream",
          "name": "stdout",
          "text": [
            "Starting pretraining on unlabeled data...\n",
            "Pretraining Epoch [1/20], Loss: 0.9592\n",
            "Pretraining Epoch [2/20], Loss: 0.8084\n",
            "Pretraining Epoch [3/20], Loss: 0.7412\n",
            "Pretraining Epoch [4/20], Loss: 0.6663\n",
            "Pretraining Epoch [5/20], Loss: 0.6349\n",
            "Pretraining Epoch [6/20], Loss: 0.5831\n",
            "Pretraining Epoch [7/20], Loss: 0.5610\n",
            "Pretraining Epoch [8/20], Loss: 0.5557\n",
            "Pretraining Epoch [9/20], Loss: 0.5276\n",
            "Pretraining Epoch [10/20], Loss: 0.5116\n",
            "Pretraining Epoch [11/20], Loss: 0.4843\n",
            "Pretraining Epoch [12/20], Loss: 0.4797\n",
            "Pretraining Epoch [13/20], Loss: 0.4623\n",
            "Pretraining Epoch [14/20], Loss: 0.4668\n",
            "Pretraining Epoch [15/20], Loss: 0.4542\n",
            "Pretraining Epoch [16/20], Loss: 0.4293\n",
            "Pretraining Epoch [17/20], Loss: 0.4371\n",
            "Pretraining Epoch [18/20], Loss: 0.4389\n",
            "Pretraining Epoch [19/20], Loss: 0.4032\n",
            "Pretraining Epoch [20/20], Loss: 0.4008\n",
            "Starting fine-tuning on labeled data...\n",
            "Epoch 1/20\n",
            "----------\n"
          ]
        },
        {
          "output_type": "stream",
          "name": "stderr",
          "text": [
            "\r  0%|          | 0/100 [00:00<?, ?it/s]<ipython-input-9-4e405c337fb9>:77: UserWarning: To copy construct from a tensor, it is recommended to use sourceTensor.clone().detach() or sourceTensor.clone().detach().requires_grad_(True), rather than torch.tensor(sourceTensor).\n",
            "  labels = torch.tensor(diagnosis_label, device=device).repeat(2)\n",
            "100%|██████████| 100/100 [00:49<00:00,  2.03it/s]\n"
          ]
        },
        {
          "output_type": "stream",
          "name": "stdout",
          "text": [
            "Training Loss: 0.4240\n"
          ]
        },
        {
          "output_type": "stream",
          "name": "stderr",
          "text": [
            "\r  0%|          | 0/13 [00:00<?, ?it/s]<ipython-input-9-4e405c337fb9>:109: UserWarning: To copy construct from a tensor, it is recommended to use sourceTensor.clone().detach() or sourceTensor.clone().detach().requires_grad_(True), rather than torch.tensor(sourceTensor).\n",
            "  labels = torch.tensor(diagnosis_label, device=device).repeat(2)\n",
            "100%|██████████| 13/13 [00:04<00:00,  2.97it/s]\n"
          ]
        },
        {
          "output_type": "stream",
          "name": "stdout",
          "text": [
            "Validation Loss: 0.6913\n",
            "Epoch 2/20\n",
            "----------\n"
          ]
        },
        {
          "output_type": "stream",
          "name": "stderr",
          "text": [
            "100%|██████████| 100/100 [00:49<00:00,  2.01it/s]\n"
          ]
        },
        {
          "output_type": "stream",
          "name": "stdout",
          "text": [
            "Training Loss: 0.2865\n"
          ]
        },
        {
          "output_type": "stream",
          "name": "stderr",
          "text": [
            "100%|██████████| 13/13 [00:04<00:00,  2.94it/s]\n"
          ]
        },
        {
          "output_type": "stream",
          "name": "stdout",
          "text": [
            "Validation Loss: 0.6220\n",
            "Epoch 3/20\n",
            "----------\n"
          ]
        },
        {
          "output_type": "stream",
          "name": "stderr",
          "text": [
            "100%|██████████| 100/100 [00:49<00:00,  2.03it/s]\n"
          ]
        },
        {
          "output_type": "stream",
          "name": "stdout",
          "text": [
            "Training Loss: 0.2226\n"
          ]
        },
        {
          "output_type": "stream",
          "name": "stderr",
          "text": [
            "100%|██████████| 13/13 [00:04<00:00,  2.76it/s]\n"
          ]
        },
        {
          "output_type": "stream",
          "name": "stdout",
          "text": [
            "Validation Loss: 0.6067\n",
            "Epoch 4/20\n",
            "----------\n"
          ]
        },
        {
          "output_type": "stream",
          "name": "stderr",
          "text": [
            "100%|██████████| 100/100 [00:48<00:00,  2.06it/s]\n"
          ]
        },
        {
          "output_type": "stream",
          "name": "stdout",
          "text": [
            "Training Loss: 0.1795\n"
          ]
        },
        {
          "output_type": "stream",
          "name": "stderr",
          "text": [
            "100%|██████████| 13/13 [00:05<00:00,  2.53it/s]\n"
          ]
        },
        {
          "output_type": "stream",
          "name": "stdout",
          "text": [
            "Validation Loss: 0.5855\n",
            "Epoch 5/20\n",
            "----------\n"
          ]
        },
        {
          "output_type": "stream",
          "name": "stderr",
          "text": [
            "100%|██████████| 100/100 [00:48<00:00,  2.07it/s]\n"
          ]
        },
        {
          "output_type": "stream",
          "name": "stdout",
          "text": [
            "Training Loss: 0.1521\n"
          ]
        },
        {
          "output_type": "stream",
          "name": "stderr",
          "text": [
            "100%|██████████| 13/13 [00:05<00:00,  2.39it/s]\n"
          ]
        },
        {
          "output_type": "stream",
          "name": "stdout",
          "text": [
            "Validation Loss: 0.5687\n",
            "Epoch 6/20\n",
            "----------\n"
          ]
        },
        {
          "output_type": "stream",
          "name": "stderr",
          "text": [
            "100%|██████████| 100/100 [00:48<00:00,  2.06it/s]\n"
          ]
        },
        {
          "output_type": "stream",
          "name": "stdout",
          "text": [
            "Training Loss: 0.1468\n"
          ]
        },
        {
          "output_type": "stream",
          "name": "stderr",
          "text": [
            "100%|██████████| 13/13 [00:05<00:00,  2.39it/s]\n"
          ]
        },
        {
          "output_type": "stream",
          "name": "stdout",
          "text": [
            "Validation Loss: 0.5523\n",
            "Epoch 7/20\n",
            "----------\n"
          ]
        },
        {
          "output_type": "stream",
          "name": "stderr",
          "text": [
            "100%|██████████| 100/100 [00:48<00:00,  2.07it/s]\n"
          ]
        },
        {
          "output_type": "stream",
          "name": "stdout",
          "text": [
            "Training Loss: 0.1291\n"
          ]
        },
        {
          "output_type": "stream",
          "name": "stderr",
          "text": [
            "100%|██████████| 13/13 [00:05<00:00,  2.34it/s]\n"
          ]
        },
        {
          "output_type": "stream",
          "name": "stdout",
          "text": [
            "Validation Loss: 0.5282\n",
            "Epoch 8/20\n",
            "----------\n"
          ]
        },
        {
          "output_type": "stream",
          "name": "stderr",
          "text": [
            "100%|██████████| 100/100 [00:48<00:00,  2.05it/s]\n"
          ]
        },
        {
          "output_type": "stream",
          "name": "stdout",
          "text": [
            "Training Loss: 0.1127\n"
          ]
        },
        {
          "output_type": "stream",
          "name": "stderr",
          "text": [
            "100%|██████████| 13/13 [00:05<00:00,  2.38it/s]\n"
          ]
        },
        {
          "output_type": "stream",
          "name": "stdout",
          "text": [
            "Validation Loss: 0.5152\n",
            "Epoch 9/20\n",
            "----------\n"
          ]
        },
        {
          "output_type": "stream",
          "name": "stderr",
          "text": [
            "100%|██████████| 100/100 [00:48<00:00,  2.06it/s]\n"
          ]
        },
        {
          "output_type": "stream",
          "name": "stdout",
          "text": [
            "Training Loss: 0.1002\n"
          ]
        },
        {
          "output_type": "stream",
          "name": "stderr",
          "text": [
            "100%|██████████| 13/13 [00:04<00:00,  2.61it/s]\n"
          ]
        },
        {
          "output_type": "stream",
          "name": "stdout",
          "text": [
            "Validation Loss: 0.5289\n",
            "Epoch 10/20\n",
            "----------\n"
          ]
        },
        {
          "output_type": "stream",
          "name": "stderr",
          "text": [
            "100%|██████████| 100/100 [00:48<00:00,  2.07it/s]\n"
          ]
        },
        {
          "output_type": "stream",
          "name": "stdout",
          "text": [
            "Training Loss: 0.1031\n"
          ]
        },
        {
          "output_type": "stream",
          "name": "stderr",
          "text": [
            "100%|██████████| 13/13 [00:05<00:00,  2.41it/s]\n"
          ]
        },
        {
          "output_type": "stream",
          "name": "stdout",
          "text": [
            "Validation Loss: 0.5372\n",
            "Epoch 11/20\n",
            "----------\n"
          ]
        },
        {
          "output_type": "stream",
          "name": "stderr",
          "text": [
            "100%|██████████| 100/100 [00:48<00:00,  2.06it/s]\n"
          ]
        },
        {
          "output_type": "stream",
          "name": "stdout",
          "text": [
            "Training Loss: 0.0877\n"
          ]
        },
        {
          "output_type": "stream",
          "name": "stderr",
          "text": [
            "100%|██████████| 13/13 [00:05<00:00,  2.58it/s]\n"
          ]
        },
        {
          "output_type": "stream",
          "name": "stdout",
          "text": [
            "Validation Loss: 0.5090\n",
            "Epoch 12/20\n",
            "----------\n"
          ]
        },
        {
          "output_type": "stream",
          "name": "stderr",
          "text": [
            "100%|██████████| 100/100 [00:49<00:00,  2.03it/s]\n"
          ]
        },
        {
          "output_type": "stream",
          "name": "stdout",
          "text": [
            "Training Loss: 0.0838\n"
          ]
        },
        {
          "output_type": "stream",
          "name": "stderr",
          "text": [
            "100%|██████████| 13/13 [00:04<00:00,  2.93it/s]\n"
          ]
        },
        {
          "output_type": "stream",
          "name": "stdout",
          "text": [
            "Validation Loss: 0.5031\n",
            "Epoch 13/20\n",
            "----------\n"
          ]
        },
        {
          "output_type": "stream",
          "name": "stderr",
          "text": [
            "100%|██████████| 100/100 [00:49<00:00,  2.03it/s]\n"
          ]
        },
        {
          "output_type": "stream",
          "name": "stdout",
          "text": [
            "Training Loss: 0.0790\n"
          ]
        },
        {
          "output_type": "stream",
          "name": "stderr",
          "text": [
            "100%|██████████| 13/13 [00:04<00:00,  2.84it/s]\n"
          ]
        },
        {
          "output_type": "stream",
          "name": "stdout",
          "text": [
            "Validation Loss: 0.5165\n",
            "Epoch 14/20\n",
            "----------\n"
          ]
        },
        {
          "output_type": "stream",
          "name": "stderr",
          "text": [
            "100%|██████████| 100/100 [00:49<00:00,  2.04it/s]\n"
          ]
        },
        {
          "output_type": "stream",
          "name": "stdout",
          "text": [
            "Training Loss: 0.0702\n"
          ]
        },
        {
          "output_type": "stream",
          "name": "stderr",
          "text": [
            "100%|██████████| 13/13 [00:04<00:00,  2.94it/s]\n"
          ]
        },
        {
          "output_type": "stream",
          "name": "stdout",
          "text": [
            "Validation Loss: 0.5169\n",
            "Epoch 15/20\n",
            "----------\n"
          ]
        },
        {
          "output_type": "stream",
          "name": "stderr",
          "text": [
            "100%|██████████| 100/100 [00:48<00:00,  2.04it/s]\n"
          ]
        },
        {
          "output_type": "stream",
          "name": "stdout",
          "text": [
            "Training Loss: 0.0615\n"
          ]
        },
        {
          "output_type": "stream",
          "name": "stderr",
          "text": [
            "100%|██████████| 13/13 [00:04<00:00,  2.77it/s]\n"
          ]
        },
        {
          "output_type": "stream",
          "name": "stdout",
          "text": [
            "Validation Loss: 0.4969\n",
            "Epoch 16/20\n",
            "----------\n"
          ]
        },
        {
          "output_type": "stream",
          "name": "stderr",
          "text": [
            "100%|██████████| 100/100 [00:49<00:00,  2.03it/s]\n"
          ]
        },
        {
          "output_type": "stream",
          "name": "stdout",
          "text": [
            "Training Loss: 0.0658\n"
          ]
        },
        {
          "output_type": "stream",
          "name": "stderr",
          "text": [
            "100%|██████████| 13/13 [00:04<00:00,  2.77it/s]\n"
          ]
        },
        {
          "output_type": "stream",
          "name": "stdout",
          "text": [
            "Validation Loss: 0.4957\n",
            "Epoch 17/20\n",
            "----------\n"
          ]
        },
        {
          "output_type": "stream",
          "name": "stderr",
          "text": [
            "100%|██████████| 100/100 [00:49<00:00,  2.04it/s]\n"
          ]
        },
        {
          "output_type": "stream",
          "name": "stdout",
          "text": [
            "Training Loss: 0.0679\n"
          ]
        },
        {
          "output_type": "stream",
          "name": "stderr",
          "text": [
            "100%|██████████| 13/13 [00:04<00:00,  2.89it/s]\n"
          ]
        },
        {
          "output_type": "stream",
          "name": "stdout",
          "text": [
            "Validation Loss: 0.4999\n",
            "Epoch 18/20\n",
            "----------\n"
          ]
        },
        {
          "output_type": "stream",
          "name": "stderr",
          "text": [
            "100%|██████████| 100/100 [00:49<00:00,  2.03it/s]\n"
          ]
        },
        {
          "output_type": "stream",
          "name": "stdout",
          "text": [
            "Training Loss: 0.0526\n"
          ]
        },
        {
          "output_type": "stream",
          "name": "stderr",
          "text": [
            "100%|██████████| 13/13 [00:04<00:00,  2.99it/s]\n"
          ]
        },
        {
          "output_type": "stream",
          "name": "stdout",
          "text": [
            "Validation Loss: 0.5084\n",
            "Epoch 19/20\n",
            "----------\n"
          ]
        },
        {
          "output_type": "stream",
          "name": "stderr",
          "text": [
            "100%|██████████| 100/100 [00:49<00:00,  2.02it/s]\n"
          ]
        },
        {
          "output_type": "stream",
          "name": "stdout",
          "text": [
            "Training Loss: 0.0550\n"
          ]
        },
        {
          "output_type": "stream",
          "name": "stderr",
          "text": [
            "100%|██████████| 13/13 [00:04<00:00,  2.87it/s]\n"
          ]
        },
        {
          "output_type": "stream",
          "name": "stdout",
          "text": [
            "Validation Loss: 0.4940\n",
            "Epoch 20/20\n",
            "----------\n"
          ]
        },
        {
          "output_type": "stream",
          "name": "stderr",
          "text": [
            "100%|██████████| 100/100 [00:49<00:00,  2.03it/s]\n"
          ]
        },
        {
          "output_type": "stream",
          "name": "stdout",
          "text": [
            "Training Loss: 0.0475\n"
          ]
        },
        {
          "output_type": "stream",
          "name": "stderr",
          "text": [
            "100%|██████████| 13/13 [00:04<00:00,  2.96it/s]\n"
          ]
        },
        {
          "output_type": "stream",
          "name": "stdout",
          "text": [
            "Validation Loss: 0.4849\n"
          ]
        }
      ]
    },
    {
      "cell_type": "markdown",
      "source": [
        "## Evaluate Model"
      ],
      "metadata": {
        "id": "sfFut9Z2Yi_k"
      }
    },
    {
      "cell_type": "code",
      "source": [
        "trained_model.eval()\n",
        "all_preds = []\n",
        "all_labels = []\n",
        "\n",
        "device = 'cuda' if torch.cuda.is_available() else 'cpu'\n",
        "\n",
        "with torch.no_grad():\n",
        "    for inputs1, inputs2, view_label, diagnosis_label in test_loader:\n",
        "        # Concatenate inputs from both views\n",
        "        inputs1 = inputs1.to(device)\n",
        "        inputs2 = inputs2.to(device)\n",
        "        inputs = torch.cat([inputs1, inputs2], dim=0)\n",
        "\n",
        "        # Repeat labels to match the concatenated input size\n",
        "        labels = torch.tensor(diagnosis_label, device=device).repeat(2)\n",
        "\n",
        "        outputs, attention_weights = trained_model(inputs)\n",
        "        _, preds = torch.max(outputs, dim=1)\n",
        "\n",
        "        all_preds.extend(preds.cpu().numpy())\n",
        "        all_labels.extend(labels.cpu().numpy())\n",
        "\n",
        "# Compute balanced accuracy for multiclass classification\n",
        "balanced_acc = balanced_accuracy_score(all_labels, all_preds)\n",
        "print(f'Balanced Accuracy: {balanced_acc:.4f}')"
      ],
      "metadata": {
        "colab": {
          "base_uri": "https://localhost:8080/"
        },
        "id": "Jzq7kMVZffFU",
        "outputId": "2cab5084-483e-49a6-c5da-3cea13f7969d"
      },
      "execution_count": 22,
      "outputs": [
        {
          "output_type": "stream",
          "name": "stderr",
          "text": [
            "<ipython-input-22-e7ce377575d3>:15: UserWarning: To copy construct from a tensor, it is recommended to use sourceTensor.clone().detach() or sourceTensor.clone().detach().requires_grad_(True), rather than torch.tensor(sourceTensor).\n",
            "  labels = torch.tensor(diagnosis_label, device=device).repeat(2)\n"
          ]
        },
        {
          "output_type": "stream",
          "name": "stdout",
          "text": [
            "Balanced Accuracy: 0.2254\n"
          ]
        }
      ]
    },
    {
      "cell_type": "code",
      "source": [
        "import matplotlib.pyplot as plt\n",
        "import seaborn as sns\n",
        "from sklearn.metrics import confusion_matrix\n",
        "\n",
        "# Assuming your label encoder is available as view_label_encoder\n",
        "class_names = supervised_dataset.diagnosis_label_encoder.classes_  # Update if you use a different encoder\n",
        "\n",
        "cm = confusion_matrix(all_labels, all_preds)\n",
        "plt.figure(figsize=(10, 8))\n",
        "sns.heatmap(cm, annot=True, fmt=\"d\", xticklabels=class_names, yticklabels=class_names, cmap=\"Blues\")\n",
        "plt.xlabel(\"Predicted Label\")\n",
        "plt.ylabel(\"True Label\")\n",
        "plt.title(\"Confusion Matrix\")\n",
        "plt.show()\n"
      ],
      "metadata": {
        "id": "ymOx3Wian_UK",
        "colab": {
          "base_uri": "https://localhost:8080/",
          "height": 718
        },
        "outputId": "7963e562-ba4e-46e0-cce9-cb751731262d"
      },
      "execution_count": 31,
      "outputs": [
        {
          "output_type": "display_data",
          "data": {
            "text/plain": [
              "<Figure size 1000x800 with 2 Axes>"
            ],
            "image/png": "[encoded data removed]"
          },
          "metadata": {}
        }
      ]
    },
    {
      "cell_type": "code",
      "source": [
        "from google.colab import files\n",
        "files.download('best_model.pth')"
      ],
      "metadata": {
        "colab": {
          "base_uri": "https://localhost:8080/",
          "height": 34
        },
        "id": "hAdHGOeQO2kB",
        "outputId": "0c3cc3c9-9485-44ad-d6ca-835df261f138"
      },
      "execution_count": 23,
      "outputs": [
        {
          "output_type": "display_data",
          "data": {
            "text/plain": [
              "<IPython.core.display.Javascript object>"
            ],
            "application/javascript": [
              "\n",
              "    async function download(id, filename, size) {\n",
              "      if (!google.colab.kernel.accessAllowed) {\n",
              "        return;\n",
              "      }\n",
              "      const div = document.createElement('div');\n",
              "      const label = document.createElement('label');\n",
              "      label.textContent = `Downloading \"${filename}\": `;\n",
              "      div.appendChild(label);\n",
              "      const progress = document.createElement('progress');\n",
              "      progress.max = size;\n",
              "      div.appendChild(progress);\n",
              "      document.body.appendChild(div);\n",
              "\n",
              "      const buffers = [];\n",
              "      let downloaded = 0;\n",
              "\n",
              "      const channel = await google.colab.kernel.comms.open(id);\n",
              "      // Send a message to notify the kernel that we're ready.\n",
              "      channel.send({})\n",
              "\n",
              "      for await (const message of channel.messages) {\n",
              "        // Send a message to notify the kernel that we're ready.\n",
              "        channel.send({})\n",
              "        if (message.buffers) {\n",
              "          for (const buffer of message.buffers) {\n",
              "            buffers.push(buffer);\n",
              "            downloaded += buffer.byteLength;\n",
              "            progress.value = downloaded;\n",
              "          }\n",
              "        }\n",
              "      }\n",
              "      const blob = new Blob(buffers, {type: 'application/binary'});\n",
              "      const a = document.createElement('a');\n",
              "      a.href = window.URL.createObjectURL(blob);\n",
              "      a.download = filename;\n",
              "      div.appendChild(a);\n",
              "      a.click();\n",
              "      div.remove();\n",
              "    }\n",
              "  "
            ]
          },
          "metadata": {}
        },
        {
          "output_type": "display_data",
          "data": {
            "text/plain": [
              "<IPython.core.display.Javascript object>"
            ],
            "application/javascript": [
              "download(\"download_7de8e7a3-5425-4fb9-8e7a-19cbe6a306a9\", \"best_model.pth\", 94398146)"
            ]
          },
          "metadata": {}
        }
      ]
    },
    {
      "cell_type": "code",
      "source": [],
      "metadata": {
        "id": "Mf3AbninYJFR"
      },
      "execution_count": null,
      "outputs": []
    }
  ]
}